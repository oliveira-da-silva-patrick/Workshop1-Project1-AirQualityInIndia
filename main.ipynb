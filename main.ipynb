{
 "cells": [
  {
   "cell_type": "code",
   "execution_count": 1,
   "metadata": {},
   "outputs": [
    {
     "name": "stdout",
     "output_type": "stream",
     "text": [
      "Requirement already satisfied: polars in /Users/patrick/Desktop/active_wbs/ws1/ws1/lib/python3.12/site-packages (1.9.0)\n"
     ]
    }
   ],
   "source": [
    "!pip3 install polars"
   ]
  },
  {
   "cell_type": "code",
   "execution_count": 2,
   "metadata": {},
   "outputs": [],
   "source": [
    "import polars as pl\n",
    "import os"
   ]
  },
  {
   "cell_type": "code",
   "execution_count": 3,
   "metadata": {},
   "outputs": [],
   "source": [
    "CLEAN_DATA = False"
   ]
  },
  {
   "cell_type": "code",
   "execution_count": 4,
   "metadata": {},
   "outputs": [],
   "source": [
    "# JOIN DATASETS\n",
    "\n",
    "if CLEAN_DATA: \n",
    "    stations = pl.read_csv(\"dataset/stations.csv\")  \n",
    "    station_day = pl.read_csv(\"dataset/station_day.csv\")\n",
    "    df = stations.join(station_day, on=\"StationId\")\n",
    "    df.write_csv(\"dataset/full_data.csv\", separator=\",\")\n",
    "\n",
    "    df = pl.read_csv(\"dataset/full_data.csv\")\n",
    "    df"
   ]
  },
  {
   "cell_type": "code",
   "execution_count": 5,
   "metadata": {},
   "outputs": [],
   "source": [
    "# FILTER TO CITIES WITH MORE THAN 3 CITIES\n",
    "\n",
    "if CLEAN_DATA: \n",
    "\n",
    "  df.select([\"StationId\", \"City\"]) \\\n",
    "      .group_by(\"City\", \"StationId\").count()\n",
    "\n",
    "  cities_wo_3sts = df.select([\"StationId\", \"City\"]).unique().group_by(\"City\") \\\n",
    "    .count().filter(pl.col(\"count\") > 3).sort(\"count\")[\"City\"].to_list()\n",
    "\n",
    "  print(cities_wo_3sts)\n",
    "\n",
    "  df = df.filter(pl.col(\"City\").is_in(cities_wo_3sts)).select([\"StationId\", \"City\", \"Date\", \"Status\", \"PM2.5\", \"PM10\", \"NOx\", \"CO\", \"SO2\", \"O3\"])\n",
    "\n",
    "  df.select(pl.all().is_null().sum()).drop([\"StationId\", \"City\", \"Date\", \"Status\"])"
   ]
  },
  {
   "cell_type": "code",
   "execution_count": 6,
   "metadata": {},
   "outputs": [],
   "source": [
    "# FILTERED TO STATIONS WITH MORE THAN 500 ROWS + DROP ROWS WITH NULL VALUES + PICK CITY (DELHI)\n",
    "\n",
    "if CLEAN_DATA: \n",
    "    temp_df = df.group_by(\"City\", \"StationId\").count().sort(\"count\").filter(pl.col(\"count\") > 500)\n",
    "\n",
    "    df = df.join(temp_df, on=[\"StationId\", \"City\"])\n",
    "    df\n",
    "\n",
    "    df.drop_nulls().group_by(\"StationId\", \"City\").count().sort(\"count\")\n",
    "\n",
    "    df = df.drop_nulls().filter(pl.col(\"City\").is_in([\"Delhi\"]))\n",
    "    print(df.shape)\n",
    "    print(\"Unique stations in Delhi: \", len(df.select(\"StationId\").unique()[\"StationId\"].to_list()))\n",
    "\n",
    "    df = df.drop(\"count\")\n",
    "\n",
    "    df.write_csv(\"dataset/cleaned_data.csv\", separator=\",\")"
   ]
  },
  {
   "cell_type": "code",
   "execution_count": 7,
   "metadata": {},
   "outputs": [
    {
     "data": {
      "text/html": [
       "<div><style>\n",
       ".dataframe > thead > tr,\n",
       ".dataframe > tbody > tr {\n",
       "  text-align: right;\n",
       "  white-space: pre-wrap;\n",
       "}\n",
       "</style>\n",
       "<small>shape: (24_215, 10)</small><table border=\"1\" class=\"dataframe\"><thead><tr><th>StationId</th><th>City</th><th>Date</th><th>Status</th><th>PM2.5</th><th>PM10</th><th>NOx</th><th>CO</th><th>SO2</th><th>O3</th></tr><tr><td>str</td><td>str</td><td>str</td><td>str</td><td>f64</td><td>f64</td><td>f64</td><td>f64</td><td>f64</td><td>f64</td></tr></thead><tbody><tr><td>&quot;DL001&quot;</td><td>&quot;Delhi&quot;</td><td>&quot;2018-11-11&quot;</td><td>&quot;Active&quot;</td><td>232.36</td><td>415.28</td><td>43.87</td><td>1.49</td><td>23.48</td><td>46.28</td></tr><tr><td>&quot;DL001&quot;</td><td>&quot;Delhi&quot;</td><td>&quot;2018-11-12&quot;</td><td>&quot;Active&quot;</td><td>238.43</td><td>348.91</td><td>44.63</td><td>1.53</td><td>14.38</td><td>45.31</td></tr><tr><td>&quot;DL001&quot;</td><td>&quot;Delhi&quot;</td><td>&quot;2018-11-13&quot;</td><td>&quot;Active&quot;</td><td>284.83</td><td>427.4</td><td>76.15</td><td>1.43</td><td>21.33</td><td>30.4</td></tr><tr><td>&quot;DL001&quot;</td><td>&quot;Delhi&quot;</td><td>&quot;2018-11-14&quot;</td><td>&quot;Active&quot;</td><td>150.41</td><td>214.16</td><td>56.3</td><td>0.99</td><td>12.74</td><td>41.87</td></tr><tr><td>&quot;DL001&quot;</td><td>&quot;Delhi&quot;</td><td>&quot;2018-11-15&quot;</td><td>&quot;Active&quot;</td><td>106.11</td><td>154.36</td><td>47.21</td><td>0.7</td><td>12.46</td><td>27.93</td></tr><tr><td>&hellip;</td><td>&hellip;</td><td>&hellip;</td><td>&hellip;</td><td>&hellip;</td><td>&hellip;</td><td>&hellip;</td><td>&hellip;</td><td>&hellip;</td><td>&hellip;</td></tr><tr><td>&quot;DL038&quot;</td><td>&quot;Delhi&quot;</td><td>&quot;2020-06-27&quot;</td><td>&quot;Active&quot;</td><td>41.85</td><td>156.2</td><td>30.21</td><td>1.55</td><td>24.48</td><td>12.19</td></tr><tr><td>&quot;DL038&quot;</td><td>&quot;Delhi&quot;</td><td>&quot;2020-06-28&quot;</td><td>&quot;Active&quot;</td><td>48.42</td><td>284.41</td><td>40.5</td><td>1.44</td><td>24.31</td><td>12.58</td></tr><tr><td>&quot;DL038&quot;</td><td>&quot;Delhi&quot;</td><td>&quot;2020-06-29&quot;</td><td>&quot;Active&quot;</td><td>42.64</td><td>172.11</td><td>31.08</td><td>1.29</td><td>19.87</td><td>17.99</td></tr><tr><td>&quot;DL038&quot;</td><td>&quot;Delhi&quot;</td><td>&quot;2020-06-30&quot;</td><td>&quot;Active&quot;</td><td>45.49</td><td>101.51</td><td>18.57</td><td>1.42</td><td>18.99</td><td>16.34</td></tr><tr><td>&quot;DL038&quot;</td><td>&quot;Delhi&quot;</td><td>&quot;2020-07-01&quot;</td><td>&quot;Active&quot;</td><td>46.5</td><td>126.5</td><td>19.12</td><td>1.23</td><td>21.98</td><td>32.58</td></tr></tbody></table></div>"
      ],
      "text/plain": [
       "shape: (24_215, 10)\n",
       "┌───────────┬───────┬────────────┬────────┬───┬───────┬──────┬───────┬───────┐\n",
       "│ StationId ┆ City  ┆ Date       ┆ Status ┆ … ┆ NOx   ┆ CO   ┆ SO2   ┆ O3    │\n",
       "│ ---       ┆ ---   ┆ ---        ┆ ---    ┆   ┆ ---   ┆ ---  ┆ ---   ┆ ---   │\n",
       "│ str       ┆ str   ┆ str        ┆ str    ┆   ┆ f64   ┆ f64  ┆ f64   ┆ f64   │\n",
       "╞═══════════╪═══════╪════════════╪════════╪═══╪═══════╪══════╪═══════╪═══════╡\n",
       "│ DL001     ┆ Delhi ┆ 2018-11-11 ┆ Active ┆ … ┆ 43.87 ┆ 1.49 ┆ 23.48 ┆ 46.28 │\n",
       "│ DL001     ┆ Delhi ┆ 2018-11-12 ┆ Active ┆ … ┆ 44.63 ┆ 1.53 ┆ 14.38 ┆ 45.31 │\n",
       "│ DL001     ┆ Delhi ┆ 2018-11-13 ┆ Active ┆ … ┆ 76.15 ┆ 1.43 ┆ 21.33 ┆ 30.4  │\n",
       "│ DL001     ┆ Delhi ┆ 2018-11-14 ┆ Active ┆ … ┆ 56.3  ┆ 0.99 ┆ 12.74 ┆ 41.87 │\n",
       "│ DL001     ┆ Delhi ┆ 2018-11-15 ┆ Active ┆ … ┆ 47.21 ┆ 0.7  ┆ 12.46 ┆ 27.93 │\n",
       "│ …         ┆ …     ┆ …          ┆ …      ┆ … ┆ …     ┆ …    ┆ …     ┆ …     │\n",
       "│ DL038     ┆ Delhi ┆ 2020-06-27 ┆ Active ┆ … ┆ 30.21 ┆ 1.55 ┆ 24.48 ┆ 12.19 │\n",
       "│ DL038     ┆ Delhi ┆ 2020-06-28 ┆ Active ┆ … ┆ 40.5  ┆ 1.44 ┆ 24.31 ┆ 12.58 │\n",
       "│ DL038     ┆ Delhi ┆ 2020-06-29 ┆ Active ┆ … ┆ 31.08 ┆ 1.29 ┆ 19.87 ┆ 17.99 │\n",
       "│ DL038     ┆ Delhi ┆ 2020-06-30 ┆ Active ┆ … ┆ 18.57 ┆ 1.42 ┆ 18.99 ┆ 16.34 │\n",
       "│ DL038     ┆ Delhi ┆ 2020-07-01 ┆ Active ┆ … ┆ 19.12 ┆ 1.23 ┆ 21.98 ┆ 32.58 │\n",
       "└───────────┴───────┴────────────┴────────┴───┴───────┴──────┴───────┴───────┘"
      ]
     },
     "execution_count": 7,
     "metadata": {},
     "output_type": "execute_result"
    }
   ],
   "source": [
    "df = pl.read_csv(\"dataset/cleaned_data.csv\")\n",
    "df"
   ]
  }
 ],
 "metadata": {
  "kernelspec": {
   "display_name": "ws1",
   "language": "python",
   "name": "python3"
  },
  "language_info": {
   "codemirror_mode": {
    "name": "ipython",
    "version": 3
   },
   "file_extension": ".py",
   "mimetype": "text/x-python",
   "name": "python",
   "nbconvert_exporter": "python",
   "pygments_lexer": "ipython3",
   "version": "3.12.6"
  }
 },
 "nbformat": 4,
 "nbformat_minor": 2
}
